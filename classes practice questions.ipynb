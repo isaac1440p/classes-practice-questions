{
 "cells": [
  {
   "cell_type": "code",
   "execution_count": null,
   "id": "0d1dbe39-9f90-4ad1-95d3-bc008ef66d60",
   "metadata": {},
   "outputs": [],
   "source": [
    "# FA24-BBD-035\n",
    "# ISHAQ HAMEED"
   ]
  },
  {
   "cell_type": "code",
   "execution_count": 1,
   "id": "e667f3ff-f389-44ca-a746-40c8629cde65",
   "metadata": {},
   "outputs": [
    {
     "name": "stdout",
     "output_type": "stream",
     "text": [
      "ishaq\n"
     ]
    }
   ],
   "source": [
    "# QUESTION 1\n",
    "class Person:\n",
    "    def __init__(self, name,age,city):\n",
    "        self.name = name\n",
    "        self.age = age\n",
    "        self.city = city\n",
    "person = Person(\"ishaq\", 18, \"lahore\")\n",
    "print(person.name)"
   ]
  },
  {
   "cell_type": "code",
   "execution_count": null,
   "id": "0441219c-03eb-44fa-a271-8ad69c8d3e2f",
   "metadata": {},
   "outputs": [],
   "source": [
    "# QUESTION 2\n",
    "class Car:\n",
    "    def __init__(self, make, model, year):\n",
    "        self.make = make\n",
    "        self.model = model\n",
    "        self.year = year\n",
    "my_car = Car(\"toyota\", \"altis\", 2006)\n",
    "print(car.make)"
   ]
  },
  {
   "cell_type": "code",
   "execution_count": 9,
   "id": "6147ea1b-fc61-4a73-b92e-132cec77b17f",
   "metadata": {},
   "outputs": [
    {
     "name": "stdout",
     "output_type": "stream",
     "text": [
      "4\n",
      "50.24\n",
      "25.12\n"
     ]
    }
   ],
   "source": [
    "# QUESTION 3\n",
    "class Circle:\n",
    "    def __init__(self, radius):\n",
    "        self.radius = radius\n",
    "    def area(self):\n",
    "        return 3.14*self.radius*self.radius\n",
    "    def circumference(self):\n",
    "        return 2*3.14*self.radius\n",
    "circle = Circle(4)\n",
    "print(circle.radius)\n",
    "print(circle.area())\n",
    "print(circle.circumference())"
   ]
  },
  {
   "cell_type": "code",
   "execution_count": 11,
   "id": "3749e089-c901-4f1b-8b4a-62b576a8a615",
   "metadata": {},
   "outputs": [
    {
     "name": "stdout",
     "output_type": "stream",
     "text": [
      "24\n"
     ]
    }
   ],
   "source": [
    "# QUESTION 4\n",
    "class Rectangle:\n",
    "    def __init__(self, length, width):\n",
    "        self.length = length\n",
    "        self.width = width\n",
    "    def area(self):\n",
    "        return self.length*self.width\n",
    "    def perimetre(self):\n",
    "        return 2*self.length + 2*self.width\n",
    "rectangle = Rectangle(3,8)\n",
    "print(rectangle.area())"
   ]
  },
  {
   "cell_type": "code",
   "execution_count": 13,
   "id": "4c9fb047-a7c1-4fc0-8f7c-d4b476931f3f",
   "metadata": {},
   "outputs": [
    {
     "name": "stdout",
     "output_type": "stream",
     "text": [
      "28.333333333333332\n"
     ]
    }
   ],
   "source": [
    "# QUESTION 5\n",
    "class Student:\n",
    "    def __init__(self, name, rollno, marks):\n",
    "        self.name = name\n",
    "        self.rollno = rollno\n",
    "        self.marks = marks\n",
    "    def average(self):\n",
    "        if len(self.marks) == 0:\n",
    "          return 0 \n",
    "        return sum(self.marks) / len(self.marks)\n",
    "student1 = Student(\"ishaq\", 35, [35, 32, 18])\n",
    "print(student1.average())"
   ]
  },
  {
   "cell_type": "code",
   "execution_count": 23,
   "id": "a45ca515-00ea-48ec-a4dc-b6e0932e4a4c",
   "metadata": {},
   "outputs": [
    {
     "name": "stdout",
     "output_type": "stream",
     "text": [
      "'To Kill a Mockingbird' by Harper Lee, published in 1960\n"
     ]
    }
   ],
   "source": [
    "# QUESTION 6\n",
    "class Book:\n",
    "    def __init__(self, title, author, publication_year):\n",
    "      \n",
    "        self.title = title\n",
    "        self.author = author\n",
    "        self.publication_year = publication_year\n",
    "\n",
    "    def __str__(self):\n",
    "      \n",
    "        return f\"'{self.title}' by {self.author}, published in {self.publication_year}\"\n",
    "\n",
    "book = Book(\"To Kill a Mockingbird\", \"Harper Lee\", 1960)\n",
    "print(book)"
   ]
  },
  {
   "cell_type": "code",
   "execution_count": 25,
   "id": "8d82d08c-423f-4d67-9ac5-35632807497c",
   "metadata": {},
   "outputs": [
    {
     "name": "stdout",
     "output_type": "stream",
     "text": [
      "Employee Name: Alice Johnson, Designation: Software Engineer, Salary: $75000.00\n"
     ]
    }
   ],
   "source": [
    "# QUESTION 7\n",
    "class Employee:\n",
    "    def __init__(self, name, salary, designation):\n",
    "      \n",
    "        self.name = name\n",
    "        self.salary = salary\n",
    "        self.designation = designation\n",
    "\n",
    "    def __str__(self):\n",
    "    \n",
    "        return f\"Employee Name: {self.name}, Designation: {self.designation}, Salary: ${self.salary:.2f}\"\n",
    "\n",
    "employee = Employee(\"Alice Johnson\", 75000.00, \"Software Engineer\")\n",
    "print(employee)"
   ]
  },
  {
   "cell_type": "code",
   "execution_count": 27,
   "id": "5960f8b3-cf47-4a82-b143-79608a463d18",
   "metadata": {},
   "outputs": [
    {
     "name": "stdout",
     "output_type": "stream",
     "text": [
      "Account Holder: John Doe, Account Number: 123456789, Balance: $500.00\n",
      "Deposited $200.00. New balance: $700.00\n",
      "Withdrew $150.00. New balance: $550.00\n",
      "Insufficient balance.\n"
     ]
    }
   ],
   "source": [
    "# QUESTION 8\n",
    "class Bank:\n",
    "    def __init__(self, name, account_number, balance=0.0):\n",
    "      \n",
    "        self.name = name\n",
    "        self.account_number = account_number\n",
    "        self.balance = balance\n",
    "\n",
    "    def deposit(self, amount):\n",
    "     \n",
    "        if amount > 0:\n",
    "            self.balance += amount\n",
    "            print(f\"Deposited ${amount:.2f}. New balance: ${self.balance:.2f}\")\n",
    "        else:\n",
    "            print(\"Deposit amount must be positive.\")\n",
    "\n",
    "    def withdraw(self, amount):\n",
    "      \n",
    "        if amount > self.balance:\n",
    "            print(\"Insufficient balance.\")\n",
    "        elif amount <= 0:\n",
    "            print(\"Withdrawal amount must be positive.\")\n",
    "        else:\n",
    "            self.balance -= amount\n",
    "            print(f\"Withdrew ${amount:.2f}. New balance: ${self.balance:.2f}\")\n",
    "\n",
    "    def __str__(self):\n",
    "     \n",
    "        return f\"Account Holder: {self.name}, Account Number: {self.account_number}, Balance: ${self.balance:.2f}\"\n",
    "\n",
    "account = Bank(\"John Doe\", \"123456789\", 500.0)\n",
    "print(account)\n",
    "account.deposit(200.0)\n",
    "account.withdraw(150.0)\n",
    "account.withdraw(600.0)"
   ]
  },
  {
   "cell_type": "code",
   "execution_count": null,
   "id": "2aceea48-7c58-4acb-9bfb-86454a273f6f",
   "metadata": {},
   "outputs": [],
   "source": []
  }
 ],
 "metadata": {
  "kernelspec": {
   "display_name": "Python 3 (ipykernel)",
   "language": "python",
   "name": "python3"
  },
  "language_info": {
   "codemirror_mode": {
    "name": "ipython",
    "version": 3
   },
   "file_extension": ".py",
   "mimetype": "text/x-python",
   "name": "python",
   "nbconvert_exporter": "python",
   "pygments_lexer": "ipython3",
   "version": "3.12.4"
  }
 },
 "nbformat": 4,
 "nbformat_minor": 5
}
